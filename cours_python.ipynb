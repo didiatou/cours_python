{
 "cells": [
  {
   "cell_type": "code",
   "execution_count": 1,
   "metadata": {},
   "outputs": [
    {
     "name": "stdout",
     "output_type": "stream",
     "text": [
      "['bana', 'cheri', 'apple']\n",
      "yes\n",
      "3\n",
      "['bana', 'cheri', 'apple', 'lemon']\n",
      "bana\n",
      "updated list:  ['cheri', 'apple', 'lemon']\n"
     ]
    }
   ],
   "source": [
    "# Liste\n",
    "mylist = [\"bana\", \"cheri\", \"apple\"]\n",
    "print(mylist)\n",
    "\n",
    "\n",
    "if \"apple\" in mylist:\n",
    "    print(\"yes\")\n",
    "else:\n",
    "    print(\"no\")\n",
    "\n",
    "print(len(mylist))\n",
    "\n",
    "mylist.append(\"lemon\")\n",
    "print(mylist)\n",
    "rem=mylist.pop(0)\n",
    "print(rem)\n",
    "print( \"updated list: \" ,mylist)\n"
   ]
  },
  {
   "cell_type": "code",
   "execution_count": 2,
   "metadata": {},
   "outputs": [
    {
     "name": "stdout",
     "output_type": "stream",
     "text": [
      "ok\n"
     ]
    }
   ],
   "source": [
    "print('ok')"
   ]
  },
  {
   "cell_type": "code",
   "execution_count": 3,
   "metadata": {},
   "outputs": [
    {
     "name": "stdout",
     "output_type": "stream",
     "text": [
      "['apple', 'cheri', 'lemon']\n",
      "[1, 3, 5, 7, 9]\n"
     ]
    }
   ],
   "source": [
    "newlist= sorted(mylist)\n",
    "print(newlist) \n",
    "mylist1 = [1,2,3,4,5,6,7,8,9]\n",
    "a=mylist1[::-1]\n",
    "a=mylist1[::2]\n",
    "print(a)\n"
   ]
  },
  {
   "cell_type": "code",
   "execution_count": 4,
   "metadata": {},
   "outputs": [
    {
     "name": "stdout",
     "output_type": "stream",
     "text": [
      "['bana', 'cheri', 'apple']\n",
      "['bana', 'cheri', 'apple', 'pinaple']\n",
      "[1, 2, 3, 4, 5]\n",
      "[1, 4, 9, 16, 25]\n"
     ]
    }
   ],
   "source": [
    "mylist_o=[\"bana\", \"cheri\", \"apple\"]\n",
    "mylistco= list(mylist_o)\n",
    "mylistco.append(\"pinaple\")\n",
    "print(mylist_o)\n",
    "print(mylistco)\n",
    "a = [1,2,3,4,5,] \n",
    "print(a)\n",
    "b= [i*i for i in a]\n",
    "print(b)"
   ]
  },
  {
   "cell_type": "code",
   "execution_count": 5,
   "metadata": {},
   "outputs": [
    {
     "name": "stdout",
     "output_type": "stream",
     "text": [
      "('Max', 28, 'Boston')\n",
      "<class 'tuple'>\n",
      "28\n",
      "Max\n",
      "28\n",
      "Boston\n",
      "yes\n"
     ]
    }
   ],
   "source": [
    "#Tuple\n",
    "mytuple = (\"Max\", 28,\"Boston\")\n",
    "print(mytuple)\n",
    "print(type(mytuple))\n",
    "\n",
    "item = mytuple[-2]\n",
    "print(item)\n",
    "\n",
    "for x in mytuple:\n",
    "    print(x)\n",
    "\n",
    "if \"Boston\" in mytuple:\n",
    "    print(\"yes\")\n",
    "else:\n",
    "    print(\"no\")"
   ]
  },
  {
   "cell_type": "code",
   "execution_count": 6,
   "metadata": {},
   "outputs": [
    {
     "name": "stdout",
     "output_type": "stream",
     "text": [
      "3\n",
      "3\n"
     ]
    }
   ],
   "source": [
    "tuple=('e', 'e', 'd','f','r','r','r',2)\n",
    "print(tuple.count('r'))\n",
    "print(tuple.index('f')) \n"
   ]
  },
  {
   "cell_type": "code",
   "execution_count": 7,
   "metadata": {},
   "outputs": [
    {
     "name": "stdout",
     "output_type": "stream",
     "text": [
      "{'name': 'Max', 'age': 32, 'city': 'Paris'}\n",
      "{'name': 'Max', 'age': 32, 'city': 'Paris', 'mail': 'arri@gmail.com'}\n",
      "yes\n",
      "{'age': 32, 'city': 'Paris', 'mail': 'arri@gmail.com'}\n",
      "('mail', 'arri@gmail.com')\n",
      "age 32\n",
      "city Paris\n"
     ]
    }
   ],
   "source": [
    "#Dictionary\n",
    "mydict = {\"name\": \"Max\", \"age\": 32, \"city\":\"Paris\"}\n",
    "print(mydict)\n",
    "mydict[\"mail\"] =  \"arri@gmail.com\"\n",
    "print(mydict)\n",
    "\n",
    "if \"name\" in mydict:\n",
    "    print(\"yes\")\n",
    "else:\n",
    "    print(\"no\")\n",
    "del mydict[\"name\"]\n",
    "print(mydict)\n",
    "print(mydict.popitem())\n",
    "\n",
    "for key, value in mydict.items():\n",
    "    print(key,value) \n"
   ]
  },
  {
   "cell_type": "code",
   "execution_count": 8,
   "metadata": {},
   "outputs": [
    {
     "name": "stdout",
     "output_type": "stream",
     "text": [
      "{1, 2, 3}\n",
      "{1, 2}\n",
      "1\n",
      "2\n",
      "no\n"
     ]
    }
   ],
   "source": [
    "# Sets\n",
    "x = set()\n",
    "x.add(1)\n",
    "x.add(2)\n",
    "x.add(3)\n",
    "print(x)\n",
    "x.discard(3)\n",
    "print(x)\n",
    "for i in x:\n",
    "    print(i)\n",
    "\n",
    "if 5 in x:\n",
    "    print(\"yes\")\n",
    "else:\n",
    "    print(\"no\")"
   ]
  },
  {
   "cell_type": "code",
   "execution_count": 9,
   "metadata": {},
   "outputs": [
    {
     "name": "stdout",
     "output_type": "stream",
     "text": [
      "{0, 1, 2, 3, 4, 5, 6, 7, 8, 9}\n",
      "{3, 5, 7}\n",
      "{0, 3, 4, 5, 6, 7, 8}\n"
     ]
    }
   ],
   "source": [
    "pds={1,3,5,7,9}\n",
    "evens = {0,2,4,6,8}\n",
    "primes= {2,3,5,7}\n",
    "print(pds.union(evens))\n",
    "print(primes.intersection(pds))\n",
    "print(evens.symmetric_difference(primes))"
   ]
  },
  {
   "cell_type": "markdown",
   "metadata": {},
   "source": [
    "# Collection de données"
   ]
  },
  {
   "cell_type": "code",
   "execution_count": 10,
   "metadata": {},
   "outputs": [
    {
     "name": "stdout",
     "output_type": "stream",
     "text": [
      "dict_values([3, 3, 3])\n"
     ]
    }
   ],
   "source": [
    "\n",
    "from collections import Counter\n",
    "import itertools\n",
    "x = \"aaabbbccc\"\n",
    "my_counter = Counter(x)\n",
    "print(my_counter.values())"
   ]
  },
  {
   "cell_type": "code",
   "execution_count": 11,
   "metadata": {},
   "outputs": [
    {
     "name": "stdout",
     "output_type": "stream",
     "text": [
      "Counter({90: 3, 95: 2, 50: 2, 85: 2, 55: 1, 60: 1, 20: 1})\n"
     ]
    }
   ],
   "source": [
    "numbers = [90, 95, 50, 55, 60, 20, 90, 85, 50, 90, 85, 95]\n",
    "print(Counter(numbers))\n"
   ]
  },
  {
   "cell_type": "code",
   "execution_count": 12,
   "metadata": {},
   "outputs": [
    {
     "name": "stdout",
     "output_type": "stream",
     "text": [
      "point(x=1, y=-4)\n",
      "1 -4\n"
     ]
    }
   ],
   "source": [
    "from collections import namedtuple\n",
    "point = namedtuple('point', 'x,y')\n",
    "pt = point(1,-4)\n",
    "print(pt)\n",
    "print(pt.x, pt.y)\n"
   ]
  },
  {
   "cell_type": "code",
   "execution_count": 13,
   "metadata": {},
   "outputs": [
    {
     "name": "stdout",
     "output_type": "stream",
     "text": [
      "<itertools.product object at 0x7f66e451d3c0>\n"
     ]
    }
   ],
   "source": [
    "from itertools import product\n",
    "a = [1,2]\n",
    "b = [3,4]\n",
    "prod = product(a,b)\n",
    "print((prod))"
   ]
  },
  {
   "cell_type": "code",
   "execution_count": 14,
   "metadata": {},
   "outputs": [
    {
     "name": "stdout",
     "output_type": "stream",
     "text": [
      "1\n",
      "2\n",
      "3\n",
      "4\n",
      "5\n"
     ]
    }
   ],
   "source": [
    "for i in range(5):\n",
    "    print(i+1)"
   ]
  },
  {
   "cell_type": "markdown",
   "metadata": {},
   "source": [
    "# Lamda"
   ]
  },
  {
   "cell_type": "code",
   "execution_count": 15,
   "metadata": {},
   "outputs": [
    {
     "name": "stdout",
     "output_type": "stream",
     "text": [
      "20\n"
     ]
    }
   ],
   "source": [
    "\n",
    "ajout = lambda x: x *2\n",
    "print (ajout(10)) \n"
   ]
  },
  {
   "cell_type": "code",
   "execution_count": 16,
   "metadata": {},
   "outputs": [],
   "source": [
    "from logging import exception"
   ]
  },
  {
   "cell_type": "code",
   "execution_count": 21,
   "metadata": {},
   "outputs": [
    {
     "name": "stdout",
     "output_type": "stream",
     "text": [
      "13\n"
     ]
    }
   ],
   "source": [
    "a = -5\n",
    "def x(a): \n",
    "    return a +10\n",
    "print(x(3))"
   ]
  },
  {
   "cell_type": "markdown",
   "metadata": {},
   "source": [
    "Erreur"
   ]
  },
  {
   "cell_type": "code",
   "execution_count": 23,
   "metadata": {},
   "outputs": [
    {
     "name": "stdout",
     "output_type": "stream",
     "text": [
      "5\n",
      "5\n"
     ]
    }
   ],
   "source": [
    "x= 5\n",
    "if x < 0:\n",
    "    raise exception(\"x doit etre positif\")\n",
    "print(x)\n",
    "\n",
    "z=5\n",
    "assert(z>=0), \"z n'est pas positive\"\n",
    "print(z)"
   ]
  },
  {
   "cell_type": "code",
   "execution_count": 24,
   "metadata": {},
   "outputs": [
    {
     "name": "stdout",
     "output_type": "stream",
     "text": [
      "division by zero\n",
      "cleaning\n"
     ]
    }
   ],
   "source": [
    "try: \n",
    "    a= 5/0\n",
    "    b= a + 10\n",
    "#except:\n",
    "  # print(\"erreur de valeur:different de 0\")\n",
    "except ZeroDivisionError as e:\n",
    "\n",
    "    print(e)\n",
    "except TypeError as e:\n",
    "    print(e) \n",
    "else:\n",
    "    print('tout est bon')\n",
    "finally:\n",
    "    print('cleaning')  \n"
   ]
  },
  {
   "cell_type": "markdown",
   "metadata": {},
   "source": [
    "#Class"
   ]
  },
  {
   "cell_type": "code",
   "execution_count": null,
   "metadata": {},
   "outputs": [
    {
     "name": "stdout",
     "output_type": "stream",
     "text": [
      "Bien venue au jouer gravin  Points de vie  20  Attaque  3\n",
      "Aie... vous venez de subir 3 degat! \n",
      "vous possedez desormais 17 point de vie\n",
      "Bien venue au jouer Idia  Points de vie  21  Attaque  5\n",
      "Aie... vous venez de subir 3 degat! \n",
      "gravin attaque Idia\n",
      "Bien venue au jouer gravin  Popints de vie  17  Attaque  3\n",
      "Bien venue au jouer Idia  Popints de vie  18  Attaque  5\n"
     ]
    }
   ],
   "source": [
    "\n",
    "class player:\n",
    "    def __init__(self, pseudo,health, attack):\n",
    "        self.pseudo =pseudo\n",
    "        self.health = health\n",
    "        self.attack = attack\n",
    "        print(\"Bien venue au jouer\", pseudo, \" Points de vie \", health, \" Attaque \", attack)\n",
    "    def get_pseudo(self):\n",
    "        return self.pseudo\n",
    "    def get_helth(self):\n",
    "        return self.health\n",
    "    def get_attack(self):\n",
    "        return self.attack\n",
    "\n",
    "    def damage(self, damage):\n",
    "        self.health -= damage\n",
    "        print(\"Aie... vous venez de subir\", damage, \"degat! \")\n",
    "    def attack_player(self, target_player):\n",
    "        target_player.damage(self.attack)\n",
    "\n",
    "player1 = player(\"Bea\", 20,3)\n",
    "player1.damage(3)\n",
    "print(\"vous possedez desormais\", player1.get_helth(),\"point de vie\")\n",
    "player2 = player(\"Idia\", 21,5)\n",
    "player1.attack_player(player2)\n",
    "print(player1.get_pseudo(), \"attaque\",player2.get_pseudo())\n",
    "print(\"Bien venue au jouer\", player1.get_pseudo(), \" Popints de vie \", player1.get_helth(), \" Attaque \", player1.get_attack())\n",
    "print(\"Bien venue au jouer\", player2.get_pseudo(), \" Popints de vie \", player2.get_helth(), \" Attaque \", player2.get_attack())"
   ]
  }
 ],
 "metadata": {
  "kernelspec": {
   "display_name": "Python 3.10.5 64-bit",
   "language": "python",
   "name": "python3"
  },
  "language_info": {
   "codemirror_mode": {
    "name": "ipython",
    "version": 3
   },
   "file_extension": ".py",
   "mimetype": "text/x-python",
   "name": "python",
   "nbconvert_exporter": "python",
   "pygments_lexer": "ipython3",
   "version": "3.9.12"
  },
  "orig_nbformat": 4,
  "vscode": {
   "interpreter": {
    "hash": "182d9c2d627c7b4790f3f9c9bfc70f980bc2cf10c13b9e7f30579c1d1021dc25"
   }
  }
 },
 "nbformat": 4,
 "nbformat_minor": 2
}
