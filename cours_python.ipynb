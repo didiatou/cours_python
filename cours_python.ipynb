{
 "cells": [
  {
   "cell_type": "code",
   "execution_count": 63,
   "metadata": {},
   "outputs": [
    {
     "name": "stdout",
     "output_type": "stream",
     "text": [
      "['bana', 'cheri', 'apple']\n",
      "yes\n",
      "3\n",
      "['bana', 'cheri', 'apple', 'lemon']\n",
      "bana\n",
      "updated list:  ['cheri', 'apple', 'lemon']\n"
     ]
    }
   ],
   "source": [
    "# Liste\n",
    "mylist = [\"bana\", \"cheri\", \"apple\"]\n",
    "print(mylist)\n",
    "\n",
    "\n",
    "if \"apple\" in mylist:\n",
    "    print(\"yes\")\n",
    "else:\n",
    "    print(\"no\")\n",
    "\n",
    "print(len(mylist))\n",
    "\n",
    "mylist.append(\"lemon\")\n",
    "print(mylist)\n",
    "rem=mylist.pop(0)\n",
    "print(rem)\n",
    "print( \"updated list: \" ,mylist)\n"
   ]
  },
  {
   "cell_type": "code",
   "execution_count": 9,
   "metadata": {},
   "outputs": [
    {
     "name": "stdout",
     "output_type": "stream",
     "text": [
      "ok\n"
     ]
    }
   ],
   "source": [
    "print('ok')"
   ]
  },
  {
   "cell_type": "code",
   "execution_count": 10,
   "metadata": {},
   "outputs": [
    {
     "name": "stdout",
     "output_type": "stream",
     "text": [
      "['apple', 'cheri', 'lemon']\n",
      "[1, 3, 5, 7, 9]\n"
     ]
    }
   ],
   "source": [
    "newlist= sorted(mylist)\n",
    "print(newlist) \n",
    "mylist1 = [1,2,3,4,5,6,7,8,9]\n",
    "a=mylist1[::-1]\n",
    "a=mylist1[::2]\n",
    "print(a)\n"
   ]
  },
  {
   "cell_type": "code",
   "execution_count": 11,
   "metadata": {},
   "outputs": [
    {
     "name": "stdout",
     "output_type": "stream",
     "text": [
      "['bana', 'cheri', 'apple']\n",
      "['bana', 'cheri', 'apple', 'pinaple']\n",
      "[1, 2, 3, 4, 5]\n",
      "[1, 4, 9, 16, 25]\n"
     ]
    }
   ],
   "source": [
    "mylist_o=[\"bana\", \"cheri\", \"apple\"]\n",
    "mylistco= list(mylist_o)\n",
    "mylistco.append(\"pinaple\")\n",
    "print(mylist_o)\n",
    "print(mylistco)\n",
    "a = [1,2,3,4,5,] \n",
    "print(a)\n",
    "b= [i*i for i in a]\n",
    "print(b)"
   ]
  },
  {
   "cell_type": "code",
   "execution_count": 12,
   "metadata": {},
   "outputs": [
    {
     "name": "stdout",
     "output_type": "stream",
     "text": [
      "('Max', 28, 'Boston')\n",
      "<class 'tuple'>\n",
      "28\n",
      "Max\n",
      "28\n",
      "Boston\n",
      "yes\n"
     ]
    }
   ],
   "source": [
    "#Tuple\n",
    "mytuple = (\"Max\", 28,\"Boston\")\n",
    "print(mytuple)\n",
    "print(type(mytuple))\n",
    "\n",
    "item = mytuple[-2]\n",
    "print(item)\n",
    "\n",
    "for x in mytuple:\n",
    "    print(x)\n",
    "\n",
    "if \"Boston\" in mytuple:\n",
    "    print(\"yes\")\n",
    "else:\n",
    "    print(\"no\")"
   ]
  },
  {
   "cell_type": "code",
   "execution_count": 13,
   "metadata": {},
   "outputs": [
    {
     "name": "stdout",
     "output_type": "stream",
     "text": [
      "3\n",
      "3\n"
     ]
    }
   ],
   "source": [
    "tuple=('e', 'e', 'd','f','r','r','r',2)\n",
    "print(tuple.count('r'))\n",
    "print(tuple.index('f')) \n"
   ]
  },
  {
   "cell_type": "code",
   "execution_count": 14,
   "metadata": {},
   "outputs": [
    {
     "name": "stdout",
     "output_type": "stream",
     "text": [
      "{'name': 'Max', 'age': 32, 'city': 'Paris'}\n",
      "{'name': 'Max', 'age': 32, 'city': 'Paris', 'mail': 'arri@gmail.com'}\n",
      "yes\n",
      "{'age': 32, 'city': 'Paris', 'mail': 'arri@gmail.com'}\n",
      "('mail', 'arri@gmail.com')\n",
      "age 32\n",
      "city Paris\n"
     ]
    }
   ],
   "source": [
    "#Dictionary\n",
    "mydict = {\"name\": \"Max\", \"age\": 32, \"city\":\"Paris\"}\n",
    "print(mydict)\n",
    "mydict[\"mail\"] =  \"arri@gmail.com\"\n",
    "print(mydict)\n",
    "\n",
    "if \"name\" in mydict:\n",
    "    print(\"yes\")\n",
    "else:\n",
    "    print(\"no\")\n",
    "del mydict[\"name\"]\n",
    "print(mydict)\n",
    "print(mydict.popitem())\n",
    "\n",
    "for key, value in mydict.items():\n",
    "    print(key,value) \n"
   ]
  },
  {
   "cell_type": "code",
   "execution_count": 15,
   "metadata": {},
   "outputs": [
    {
     "name": "stdout",
     "output_type": "stream",
     "text": [
      "{1, 2, 3}\n",
      "{1, 2}\n",
      "1\n",
      "2\n",
      "no\n"
     ]
    }
   ],
   "source": [
    "# Sets\n",
    "x = set()\n",
    "x.add(1)\n",
    "x.add(2)\n",
    "x.add(3)\n",
    "print(x)\n",
    "x.discard(3)\n",
    "print(x)\n",
    "for i in x:\n",
    "    print(i)\n",
    "\n",
    "if 5 in x:\n",
    "    print(\"yes\")\n",
    "else:\n",
    "    print(\"no\")"
   ]
  },
  {
   "cell_type": "code",
   "execution_count": 16,
   "metadata": {},
   "outputs": [
    {
     "name": "stdout",
     "output_type": "stream",
     "text": [
      "{0, 1, 2, 3, 4, 5, 6, 7, 8, 9}\n",
      "{3, 5, 7}\n",
      "{0, 3, 4, 5, 6, 7, 8}\n"
     ]
    }
   ],
   "source": [
    "pds={1,3,5,7,9}\n",
    "evens = {0,2,4,6,8}\n",
    "primes= {2,3,5,7}\n",
    "print(pds.union(evens))\n",
    "print(primes.intersection(pds))\n",
    "print(evens.symmetric_difference(primes))"
   ]
  },
  {
   "cell_type": "markdown",
   "metadata": {},
   "source": [
    "# Collection de données"
   ]
  },
  {
   "cell_type": "code",
   "execution_count": 17,
   "metadata": {},
   "outputs": [
    {
     "name": "stdout",
     "output_type": "stream",
     "text": [
      "dict_values([3, 3, 3])\n"
     ]
    }
   ],
   "source": [
    "\n",
    "from collections import Counter\n",
    "import itertools\n",
    "x = \"aaabbbccc\"\n",
    "my_counter = Counter(x)\n",
    "print(my_counter.values())"
   ]
  },
  {
   "cell_type": "code",
   "execution_count": 18,
   "metadata": {},
   "outputs": [
    {
     "name": "stdout",
     "output_type": "stream",
     "text": [
      "Counter({90: 3, 95: 2, 50: 2, 85: 2, 55: 1, 60: 1, 20: 1})\n"
     ]
    }
   ],
   "source": [
    "numbers = [90, 95, 50, 55, 60, 20, 90, 85, 50, 90, 85, 95]\n",
    "print(Counter(numbers))\n"
   ]
  },
  {
   "cell_type": "code",
   "execution_count": 19,
   "metadata": {},
   "outputs": [
    {
     "name": "stdout",
     "output_type": "stream",
     "text": [
      "point(x=1, y=-4)\n",
      "1 -4\n"
     ]
    }
   ],
   "source": [
    "from collections import namedtuple\n",
    "point = namedtuple('point', 'x,y')\n",
    "pt = point(1,-4)\n",
    "print(pt)\n",
    "print(pt.x, pt.y)\n"
   ]
  },
  {
   "cell_type": "code",
   "execution_count": 20,
   "metadata": {},
   "outputs": [
    {
     "name": "stdout",
     "output_type": "stream",
     "text": [
      "<itertools.product object at 0x7fd969f5d440>\n"
     ]
    }
   ],
   "source": [
    "from itertools import product\n",
    "a = [1,2]\n",
    "b = [3,4]\n",
    "prod = product(a,b)\n",
    "print((prod))"
   ]
  },
  {
   "cell_type": "code",
   "execution_count": 21,
   "metadata": {},
   "outputs": [
    {
     "name": "stdout",
     "output_type": "stream",
     "text": [
      "1\n",
      "2\n",
      "3\n",
      "4\n",
      "5\n"
     ]
    }
   ],
   "source": [
    "for i in range(5):\n",
    "    print(i+1)"
   ]
  },
  {
   "cell_type": "markdown",
   "metadata": {},
   "source": [
    "# Lamda"
   ]
  },
  {
   "cell_type": "code",
   "execution_count": 22,
   "metadata": {},
   "outputs": [
    {
     "name": "stdout",
     "output_type": "stream",
     "text": [
      "20\n"
     ]
    }
   ],
   "source": [
    "\n",
    "ajout = lambda x: x *2\n",
    "print (ajout(10)) \n"
   ]
  },
  {
   "cell_type": "code",
   "execution_count": 23,
   "metadata": {},
   "outputs": [],
   "source": [
    "from logging import exception"
   ]
  },
  {
   "cell_type": "code",
   "execution_count": 24,
   "metadata": {},
   "outputs": [
    {
     "name": "stdout",
     "output_type": "stream",
     "text": [
      "13\n"
     ]
    }
   ],
   "source": [
    "a = -5\n",
    "def x(a): \n",
    "    return a +10\n",
    "print(x(3))"
   ]
  },
  {
   "cell_type": "markdown",
   "metadata": {},
   "source": [
    "Erreurs"
   ]
  },
  {
   "cell_type": "code",
   "execution_count": 25,
   "metadata": {},
   "outputs": [
    {
     "name": "stdout",
     "output_type": "stream",
     "text": [
      "5\n",
      "5\n"
     ]
    }
   ],
   "source": [
    "x= 5\n",
    "if x < 0:\n",
    "    raise exception(\"x doit etre positif\")\n",
    "print(x)\n",
    "\n",
    "z=5\n",
    "assert(z>=0), \"z n'est pas positive\"\n",
    "print(z)"
   ]
  },
  {
   "cell_type": "code",
   "execution_count": 26,
   "metadata": {},
   "outputs": [
    {
     "name": "stdout",
     "output_type": "stream",
     "text": [
      "tout est bon\n",
      "cleaning\n"
     ]
    }
   ],
   "source": [
    "try: \n",
    "    a= 5/1\n",
    "    b= a + 10\n",
    "#except:\n",
    "  # print(\"erreur de valeur:different de 0\")\n",
    "except ZeroDivisionError as e:\n",
    "\n",
    "    print(e)\n",
    "except TypeError as e:\n",
    "    print(e) \n",
    "else:\n",
    "    print('tout est bon')\n",
    "finally:\n",
    "    print('cleaning')  \n"
   ]
  },
  {
   "cell_type": "markdown",
   "metadata": {},
   "source": [
    "# Class"
   ]
  },
  {
   "cell_type": "code",
   "execution_count": 27,
   "metadata": {},
   "outputs": [
    {
     "name": "stdout",
     "output_type": "stream",
     "text": [
      "Bien venue au jouer Bea  Points de vie  20  Attaque  3\n",
      "Aie... vous venez de subir 3 degat! \n",
      "vous possedez desormais 17 point de vie\n",
      "Bien venue au jouer Idia  Points de vie  21  Attaque  5\n",
      "Aie... vous venez de subir 3 degat! \n",
      "Bea attaque Idia\n",
      "Bien venue au jouer Bea  Popints de vie  17  Attaque  3\n",
      "Bien venue au jouer Idia  Popints de vie  18  Attaque  5\n"
     ]
    }
   ],
   "source": [
    "\n",
    "class player:\n",
    "    def __init__(self, pseudo,health, attack):\n",
    "        self.pseudo =pseudo\n",
    "        self.health = health\n",
    "        self.attack = attack\n",
    "        print(\"Bien venue au jouer\", pseudo, \" Points de vie \", health, \" Attaque \", attack)\n",
    "    def get_pseudo(self):\n",
    "        return self.pseudo\n",
    "    def get_helth(self):\n",
    "        return self.health\n",
    "    def get_attack(self):\n",
    "        return self.attack\n",
    "\n",
    "    def damage(self, damage):\n",
    "        self.health -= damage\n",
    "        print(\"Aie... vous venez de subir\", damage, \"degat! \")\n",
    "    def attack_player(self, target_player):\n",
    "        target_player.damage(self.attack)\n",
    "\n",
    "player1 = player(\"Bea\", 20,3)\n",
    "player1.damage(3)\n",
    "print(\"vous possedez desormais\", player1.get_helth(),\"point de vie\")\n",
    "player2 = player(\"Idia\", 21,5)\n",
    "player1.attack_player(player2)\n",
    "print(player1.get_pseudo(), \"attaque\",player2.get_pseudo())\n",
    "print(\"Bien venue au jouer\", player1.get_pseudo(), \" Popints de vie \", player1.get_helth(), \" Attaque \", player1.get_attack())\n",
    "print(\"Bien venue au jouer\", player2.get_pseudo(), \" Popints de vie \", player2.get_helth(), \" Attaque \", player2.get_attack())"
   ]
  },
  {
   "cell_type": "markdown",
   "metadata": {},
   "source": [
    "# Json\n",
    "## Convertion python -> Json"
   ]
  },
  {
   "cell_type": "code",
   "execution_count": 19,
   "metadata": {},
   "outputs": [
    {
     "name": "stdout",
     "output_type": "stream",
     "text": [
      "{\n",
      "    \"age\": 30,\n",
      "    \"city\": \"New York\",\n",
      "    \"haschildren\": false,\n",
      "    \"name\": \"Jonh\",\n",
      "    \"titles\": [\n",
      "        \"engineer\",\n",
      "        \"programmer\"\n",
      "    ]\n",
      "}\n"
     ]
    }
   ],
   "source": [
    "import json\n",
    "person = {\"name\": \"Jonh\", \"age\": 30, \"city\":\"New York\",\"haschildren\": False, \"titles\":[\"engineer\",\"programmer\"]}\n",
    "\n",
    "personJson = json.dumps(person, indent=4, sort_keys=True)\n",
    "print (personJson)"
   ]
  },
  {
   "cell_type": "markdown",
   "metadata": {},
   "source": [
    "## Convertir en fichier"
   ]
  },
  {
   "cell_type": "code",
   "execution_count": 16,
   "metadata": {},
   "outputs": [],
   "source": [
    "with open('person.json', \"w\") as file:\n",
    "    json.dump(person,file, indent=4)"
   ]
  },
  {
   "cell_type": "markdown",
   "metadata": {},
   "source": [
    "## Json -> to dictionary python"
   ]
  },
  {
   "cell_type": "code",
   "execution_count": 17,
   "metadata": {},
   "outputs": [
    {
     "name": "stdout",
     "output_type": "stream",
     "text": [
      "{'name': 'Jonh', 'age': 30, 'city': 'New York', 'haschildren': False, 'titles': ['engineer', 'programmer']}\n"
     ]
    }
   ],
   "source": [
    "perso= json.loads(personJson)\n",
    "print(person)"
   ]
  },
  {
   "cell_type": "code",
   "execution_count": 18,
   "metadata": {},
   "outputs": [
    {
     "name": "stdout",
     "output_type": "stream",
     "text": [
      "{'name': 'Jonh', 'age': 30, 'city': 'New York', 'haschildren': False, 'titles': ['engineer', 'programmer']}\n"
     ]
    }
   ],
   "source": [
    "with open('person.json','r') as f:\n",
    "    person = json.load(f)\n",
    "    print(person)"
   ]
  },
  {
   "cell_type": "code",
   "execution_count": 20,
   "metadata": {},
   "outputs": [
    {
     "name": "stdout",
     "output_type": "stream",
     "text": [
      "\"Max\"\n",
      "<class 'str'>\n"
     ]
    }
   ],
   "source": [
    " import json\n",
    "\n",
    "class User:\n",
    "    def __init__(self, name, age):\n",
    "        self.name= name\n",
    "        self.age=age\n",
    "\n",
    "user1 = User('max', 27)\n",
    "user2 =  User('Anne', 12)\n",
    "user3 = User (\"Tatiana\",45)\n",
    "user4 = 'Max' \n",
    "\n",
    "def encode_user(o):\n",
    "    if isinstance(o,User):\n",
    "        return{'name':o.name,'age': o.age,o.__class__.__name__:True}\n",
    "    \n",
    "    raise TypeError('le type objet user est pas serialisable')\n",
    "encode_user(user1)\n",
    "userJson= json.dumps(user4, default= encode_user)\n",
    "print(userJson)\n",
    "print(type(user4))"
   ]
  },
  {
   "cell_type": "markdown",
   "metadata": {},
   "source": [
    "## Or"
   ]
  },
  {
   "cell_type": "code",
   "execution_count": 44,
   "metadata": {},
   "outputs": [
    {
     "name": "stdout",
     "output_type": "stream",
     "text": [
      "{\"name\": \"max\", \"age\": 27, \"User\": true}\n"
     ]
    }
   ],
   "source": [
    "class User:\n",
    "    def __init__(self, name, age):\n",
    "        self.name= name\n",
    "        self.age=age\n",
    "user = User('max', 27)\n",
    "\n",
    "from json import JSONEncoder\n",
    "class UserEncoder(JSONEncoder):\n",
    "    def default(self, o):\n",
    "         if isinstance(o,User):\n",
    "            return{'name':o.name,'age': o.age,o.__class__.__name__:True}\n",
    "         return JSONEncoder.default(self,o)\n",
    "\n",
    "\n",
    "userJson= json.dumps(user, cls= UserEncoder)\n",
    "print(userJson)\n"
   ]
  },
  {
   "cell_type": "markdown",
   "metadata": {},
   "source": [
    "# Random (aléatoire) Numbers"
   ]
  },
  {
   "cell_type": "code",
   "execution_count": 5,
   "metadata": {},
   "outputs": [
    {
     "name": "stdout",
     "output_type": "stream",
     "text": [
      "2.0187820294538166\n",
      "3\n",
      "8\n",
      "0.6238096870286016\n",
      "A\n",
      "['D', 'B']\n"
     ]
    }
   ],
   "source": [
    "import random\n",
    "\n",
    "a= random.uniform(1,10)\n",
    "b= random.randint(1,10)\n",
    "c= random.randrange(1,10)\n",
    "d= random.normalvariate(0,1)\n",
    "print(a)\n",
    "print(b)\n",
    "print(c)\n",
    "print(d)\n",
    "\n",
    "mylist= list(\"ABCDEFGH\")\n",
    "e = random.choice(mylist)\n",
    "print(e)\n",
    "\n",
    "f = random.sample(mylist,k=2)\n",
    "print(f)\n",
    "\n",
    "\n",
    "\n"
   ]
  },
  {
   "cell_type": "code",
   "execution_count": 131,
   "metadata": {},
   "outputs": [
    {
     "name": "stdout",
     "output_type": "stream",
     "text": [
      "['A', 'B', 'H', 'C', 'E', 'D', 'G', 'F']\n"
     ]
    }
   ],
   "source": [
    "mylist= list(\"ABCDEFGH\")\n",
    "random.shuffle(mylist)\n",
    "print(mylist)"
   ]
  },
  {
   "cell_type": "code",
   "execution_count": 146,
   "metadata": {},
   "outputs": [
    {
     "name": "stdout",
     "output_type": "stream",
     "text": [
      "0.13436424411240122\n",
      "2\n"
     ]
    }
   ],
   "source": [
    "random.seed(1)\n",
    "print(random.random())\n",
    "print(random.randint(1,10))"
   ]
  },
  {
   "cell_type": "code",
   "execution_count": 8,
   "metadata": {},
   "outputs": [
    {
     "name": "stdout",
     "output_type": "stream",
     "text": [
      "4\n",
      "15\n"
     ]
    }
   ],
   "source": [
    "import secrets\n",
    "a = secrets.randbelow(10)\n",
    "print(a)\n",
    "b= secrets.randbits(4)\n",
    "# 1111\n",
    "print(b)\n"
   ]
  },
  {
   "cell_type": "code",
   "execution_count": 1,
   "metadata": {},
   "outputs": [
    {
     "ename": "ModuleNotFoundError",
     "evalue": "No module named 'numpy.random'; 'numpy' is not a package",
     "output_type": "error",
     "traceback": [
      "\u001b[1;31m---------------------------------------------------------------------------\u001b[0m",
      "\u001b[1;31mModuleNotFoundError\u001b[0m                       Traceback (most recent call last)",
      "\u001b[1;32mc:\\Users\\didia\\python_cours\\cours_python.ipynb Cell 36'\u001b[0m in \u001b[0;36m<cell line: 1>\u001b[1;34m()\u001b[0m\n\u001b[1;32m----> <a href='vscode-notebook-cell:/c%3A/Users/didia/python_cours/cours_python.ipynb#ch0000034?line=0'>1</a>\u001b[0m \u001b[39mimport\u001b[39;00m \u001b[39mnumpy\u001b[39;00m\u001b[39m.\u001b[39;00m\u001b[39mrandom\u001b[39;00m \u001b[39mas\u001b[39;00m \u001b[39mnp\u001b[39;00m\n\u001b[0;32m      <a href='vscode-notebook-cell:/c%3A/Users/didia/python_cours/cours_python.ipynb#ch0000034?line=1'>2</a>\u001b[0m a\u001b[39m=\u001b[39mnp\u001b[39m.\u001b[39mrandint(\u001b[39m0\u001b[39m,\u001b[39m10\u001b[39m,(\u001b[39m3\u001b[39m,\u001b[39m4\u001b[39m))\n\u001b[0;32m      <a href='vscode-notebook-cell:/c%3A/Users/didia/python_cours/cours_python.ipynb#ch0000034?line=2'>3</a>\u001b[0m \u001b[39mprint\u001b[39m (a)\n",
      "\u001b[1;31mModuleNotFoundError\u001b[0m: No module named 'numpy.random'; 'numpy' is not a package"
     ]
    }
   ],
   "source": [
    "\n",
    "import numpy.random as np\n",
    "a=np.randint(0,10,(3,4))\n",
    "print (a)\n"
   ]
  },
  {
   "cell_type": "markdown",
   "metadata": {},
   "source": [
    "# Decorator"
   ]
  },
  {
   "cell_type": "code",
   "execution_count": 12,
   "metadata": {},
   "outputs": [
    {
     "name": "stdout",
     "output_type": "stream",
     "text": [
      "message !!!\n",
      "Hello Xavki!\n"
     ]
    }
   ],
   "source": [
    "# mydecorater\n",
    "\n",
    "def dec(fonct):\n",
    "    print(\"message !!!\")\n",
    "    return fonct\n",
    "@dec\n",
    "def myfonction():\n",
    "    return \"Hello Xavki!\"\n",
    "print(myfonction())\n"
   ]
  },
  {
   "cell_type": "code",
   "execution_count": 233,
   "metadata": {},
   "outputs": [
    {
     "name": "stdout",
     "output_type": "stream",
     "text": [
      "\u001b[32m Hello Xavki! \u001b[0m\n",
      "Aurevoir  Xavki!\n"
     ]
    }
   ],
   "source": [
    "from functools import wraps\n",
    "\n",
    "def vert(f):\n",
    "    @ wraps(f)\n",
    "    def wrapped(*args, **kwargs):\n",
    "        r= f(*args, **kwargs)\n",
    "        phrase = \"\\033[32m {} \\033[0m\".format(r)\n",
    "        return phrase\n",
    "    return wrapped\n",
    "\n",
    "@vert\n",
    "def myfonction1():\n",
    "    return \"Hello Xavki!\"\n",
    "\n",
    "def myfonction2():\n",
    "    return \"Aurevoir  Xavki!\"\n",
    "\n",
    "print(myfonction1())\n",
    "print(myfonction2())"
   ]
  },
  {
   "cell_type": "code",
   "execution_count": 4,
   "metadata": {},
   "outputs": [
    {
     "name": "stdout",
     "output_type": "stream",
     "text": [
      "1\n",
      "2\n",
      "3\n",
      "[]\n"
     ]
    }
   ],
   "source": [
    "def mygenerator():\n",
    "    yield 1\n",
    "    yield 2\n",
    "    yield 3\n",
    "g= mygenerator()\n",
    "\n",
    "\n",
    "value = next(g)\n",
    "print(value)\n",
    "\n",
    "value = next(g)\n",
    "print(value)\n",
    "\n",
    "value = next(g)\n",
    "print(value)  \n",
    "\n",
    "print(sorted(g)) \n"
   ]
  },
  {
   "cell_type": "code",
   "execution_count": 222,
   "metadata": {},
   "outputs": [
    {
     "name": "stdout",
     "output_type": "stream",
     "text": [
      "Starting\n",
      "3\n"
     ]
    }
   ],
   "source": [
    "\"\"\"def countdown(num):\n",
    "    print('Starting')\n",
    "    while num  > 0: \n",
    "        yield num\n",
    "        num-=1\n",
    "cd = countdown(4)\n",
    "value = next(cd)\n",
    "print(next(cd))\"\"\""
   ]
  },
  {
   "cell_type": "markdown",
   "metadata": {},
   "source": [
    "# Multiprocessing ???, Threading??? simultanement"
   ]
  },
  {
   "cell_type": "code",
   "execution_count": null,
   "metadata": {},
   "outputs": [],
   "source": [
    "#Multi Threading\n",
    "from time import sleep\n",
    "from threading import *\n",
    "\n",
    "class Hello(Thread):\n",
    "    def run(self):\n",
    "        for i in range(5):\n",
    "            print(\"hello\")\n",
    "            sleep(1)\n",
    "        \n",
    "class Hi(Thread):\n",
    "    def run(self):\n",
    "        for i in range(5):\n",
    "            print(\"HI\")\n",
    "            sleep(1)\n",
    "\n",
    "h1 = Hello()\n",
    "h2 = Hi()\n",
    "\n",
    "h1.start()\n",
    "sleep(0.2)\n",
    "h2.start()\n",
    "\n",
    "\n",
    "h1.join()\n",
    "h2.join()\n",
    "\n",
    "\n",
    "print(\"Bye\")\n"
   ]
  },
  {
   "cell_type": "code",
   "execution_count": 49,
   "metadata": {},
   "outputs": [
    {
     "name": "stdout",
     "output_type": "stream",
     "text": [
      "zozozo\n",
      "xxxxxx\n",
      "zozozo\n",
      "xxxxxx\n",
      "zozozo\n",
      "xxxxxx\n",
      "Fin du programme\n"
     ]
    }
   ],
   "source": [
    "import time\n",
    "import threading\n",
    "#from threading import Thread\n",
    "    \n",
    "\n",
    "\n",
    "def process1():\n",
    "    i=0\n",
    "    while i <3:\n",
    "        print(\"zozozo\")\n",
    "        sleep(0.3)\n",
    "        i +=1\n",
    "\n",
    "def process2():\n",
    "    i=0\n",
    "    while i <3:\n",
    "        print(\"xxxxxx\")\n",
    "        sleep(0.3)\n",
    "        i +=1\n",
    "\n",
    "th1 = threading.Thread(target= process1)\n",
    "th2 = threading.Thread(target= process2)\n",
    "\n",
    "th1.start()\n",
    "sleep(0.2)\n",
    "th2.start()\n",
    "\n",
    "th1.join()\n",
    "th2.join()\n",
    "\n",
    "print(\"Fin du programme\")\n",
    "\n",
    "# process2()\n",
    "# process1()\n",
    "\n",
    "\n",
    "    "
   ]
  },
  {
   "cell_type": "code",
   "execution_count": 53,
   "metadata": {},
   "outputs": [
    {
     "name": "stdout",
     "output_type": "stream",
     "text": [
      "A\n",
      "B\n",
      "C\n",
      "A\n",
      "B\n",
      "C\n",
      "A\n",
      "B\n",
      "C\n",
      "A\n",
      "B\n",
      "C\n",
      "A\n",
      "B\n",
      "C\n",
      "A\n",
      "B\n",
      "C\n",
      "Fin du programme\n"
     ]
    }
   ],
   "source": [
    "import time\n",
    "import threading\n",
    "#from threading import Thread\n",
    "\n",
    "my_lock = threading.RLock()\n",
    "\n",
    "class myprocess(threading.Thread):\n",
    "    def __init__(self):\n",
    "        threading.Thread.__init__(self)\n",
    "\n",
    "    def run(self):\n",
    "        i=0\n",
    "        while i <3:\n",
    "            with my_lock:\n",
    "                letters = \"ABC\"\n",
    "                for lt in letters:\n",
    "                    print(lt)\n",
    "\n",
    "         #print(threading.current_thread())\n",
    "                    time.sleep(0.3)\n",
    "            i +=1\n",
    "\n",
    "\n",
    "\n",
    "th1 =myprocess()\n",
    "th2 = myprocess()\n",
    "\n",
    "th1.start()\n",
    "th2.start()\n",
    "\n",
    "th1.join()\n",
    "th2.join()\n",
    "\n",
    "print(\"Fin du programme\")"
   ]
  }
 ],
 "metadata": {
  "kernelspec": {
   "display_name": "Python 3.10.5 64-bit",
   "language": "python",
   "name": "python3"
  },
  "language_info": {
   "codemirror_mode": {
    "name": "ipython",
    "version": 3
   },
   "file_extension": ".py",
   "mimetype": "text/x-python",
   "name": "python",
   "nbconvert_exporter": "python",
   "pygments_lexer": "ipython3",
   "version": "3.9.12"
  },
  "orig_nbformat": 4,
  "vscode": {
   "interpreter": {
    "hash": "182d9c2d627c7b4790f3f9c9bfc70f980bc2cf10c13b9e7f30579c1d1021dc25"
   }
  }
 },
 "nbformat": 4,
 "nbformat_minor": 2
}
