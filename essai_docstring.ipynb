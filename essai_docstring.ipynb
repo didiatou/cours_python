{
 "cells": [
  {
   "cell_type": "markdown",
   "metadata": {},
   "source": []
  },
  {
   "cell_type": "code",
   "execution_count": null,
   "metadata": {},
   "outputs": [],
   "source": [
    "import numpy as np\n",
    "import matplotlib.pyplot as plt\n",
    "import pandas as pd"
   ]
  },
  {
   "cell_type": "code",
   "execution_count": null,
   "metadata": {},
   "outputs": [],
   "source": [
    "liste= [list]\n",
    "list."
   ]
  },
  {
   "cell_type": "code",
   "execution_count": 6,
   "metadata": {},
   "outputs": [],
   "source": [
    "langages = [[\"Python\", \"C++\"], \"Java\"]\n",
    "nombres = [1, [4, [2, 3]], 5, [6], [[7]]]\n",
    "\n",
    "python = langages[0][0]\n",
    "deux = nombres[1][1][0]\n",
    "sept = nombres[4][0][0]"
   ]
  },
  {
   "cell_type": "code",
   "execution_count": 7,
   "metadata": {},
   "outputs": [
    {
     "data": {
      "text/plain": [
       "7"
      ]
     },
     "execution_count": 7,
     "metadata": {},
     "output_type": "execute_result"
    }
   ],
   "source": [
    "sept"
   ]
  },
  {
   "cell_type": "code",
   "execution_count": 8,
   "metadata": {},
   "outputs": [
    {
     "name": "stdout",
     "output_type": "stream",
     "text": [
      "['Paris', 'Lille', 'Strasbourg', 'Lyon']\n"
     ]
    }
   ],
   "source": [
    "villes = ['Paris', 'Lille', 'Lyon']\n",
    "villes.insert(-1, 'Strasbourg')\n",
    "print(villes)"
   ]
  },
  {
   "cell_type": "code",
   "execution_count": 9,
   "metadata": {},
   "outputs": [
    {
     "name": "stdout",
     "output_type": "stream",
     "text": [
      "['Paris', 'Lille', 'Nice', 'Strasbourg', 'Lyon']\n"
     ]
    }
   ],
   "source": [
    "villes.insert(-2, 'Nice')\n",
    "print(villes)"
   ]
  },
  {
   "cell_type": "code",
   "execution_count": 13,
   "metadata": {},
   "outputs": [
    {
     "name": "stdout",
     "output_type": "stream",
     "text": [
      "[0, 1, 2, 3, 4, 5, 6, 7, 8, 9]\n"
     ]
    }
   ],
   "source": [
    "interval = range(10)\n",
    "print(list(interval))"
   ]
  },
  {
   "cell_type": "code",
   "execution_count": 17,
   "metadata": {},
   "outputs": [
    {
     "name": "stdout",
     "output_type": "stream",
     "text": [
      "le seigneur des anneaux\n"
     ]
    }
   ],
   "source": [
    "    film = \"le seigneur des anneaux\"\n",
    "    \n",
    "    film.title()\n",
    "    print(film)"
   ]
  },
  {
   "cell_type": "code",
   "execution_count": 19,
   "metadata": {},
   "outputs": [
    {
     "name": "stdout",
     "output_type": "stream",
     "text": [
      "Itération 0\n",
      "Itération 1\n",
      "Itération 2\n",
      "Itération 3\n",
      "Itération 4\n",
      "Itération 5\n",
      "Itération 6\n",
      "Itération 7\n",
      "Itération 8\n",
      "Itération 9\n"
     ]
    }
   ],
   "source": [
    "    i = 0\n",
    "    while i < 10:\n",
    "        print(f\"Itération {i}\")\n",
    "        i += 1"
   ]
  },
  {
   "cell_type": "code",
   "execution_count": 21,
   "metadata": {},
   "outputs": [
    {
     "name": "stdout",
     "output_type": "stream",
     "text": [
      "1\n",
      "3\n",
      "5\n",
      "7\n",
      "9\n"
     ]
    }
   ],
   "source": [
    "liste = [0, 1, 2, 3, 4, 5, 6, 7, 8,  9]\n",
    "for i in liste:\n",
    "    if i%2==0:\n",
    "        continue\n",
    "    else:\n",
    "        print(i)"
   ]
  },
  {
   "cell_type": "code",
   "execution_count": 22,
   "metadata": {},
   "outputs": [
    {
     "data": {
      "text/plain": [
       "[1, 2, 3, 4, 5, 6, 7, 8, 9]"
      ]
     },
     "execution_count": 22,
     "metadata": {},
     "output_type": "execute_result"
    }
   ],
   "source": [
    "liste = [-5,-4,-3,-2,-1,0, 1, 2, 3, 4, 5, 6, 7, 8,  9]\n",
    "nombres_positifs= []\n",
    "for i in liste:\n",
    "    if i>0:\n",
    "        nombres_positifs.append(i)\n",
    "nombres_positifs"
   ]
  },
  {
   "cell_type": "code",
   "execution_count": 28,
   "metadata": {},
   "outputs": [
    {
     "data": {
      "text/plain": [
       "[-5, -4, -3, -2, -1]"
      ]
     },
     "execution_count": 28,
     "metadata": {},
     "output_type": "execute_result"
    }
   ],
   "source": [
    "#liste compréhension\n",
    "liste = [-5,-4,-3,-2,-1,0, 1, 2, 3, 4, 5, 6, 7, 8,  9]\n",
    "nombres_positifs= [i for i  in liste if i<0 ]\n",
    "nombres_positifs"
   ]
  },
  {
   "cell_type": "code",
   "execution_count": 38,
   "metadata": {},
   "outputs": [
    {
     "name": "stdout",
     "output_type": "stream",
     "text": [
      " utilisateur 1 \n",
      " utilisateur 2 \n",
      " utilisateur 3 \n",
      " utilisateur 4 \n",
      " utilisateur 5 \n",
      " utilisateur 6 \n",
      " utilisateur 7 \n",
      " utilisateur 8 \n",
      " utilisateur 9 \n",
      " utilisateur 10 \n"
     ]
    }
   ],
   "source": [
    "\n",
    "for i in range(1,11):\n",
    "    print(f\" utilisateur {i} \") \n",
    "    i +=1\n"
   ]
  },
  {
   "cell_type": "code",
   "execution_count": 47,
   "metadata": {},
   "outputs": [
    {
     "name": "stdout",
     "output_type": "stream",
     "text": [
      "n\n",
      "o\n",
      "h\n",
      "t\n",
      "y\n",
      "P\n"
     ]
    }
   ],
   "source": [
    "lente = 'Python'\n",
    "for i in reversed(lente):\n",
    "        print(i)"
   ]
  },
  {
   "cell_type": "code",
   "execution_count": 54,
   "metadata": {},
   "outputs": [
    {
     "name": "stdout",
     "output_type": "stream",
     "text": [
      "0\n",
      "1\n",
      "2\n",
      "3\n",
      "4\n",
      "5\n"
     ]
    }
   ],
   "source": [
    "mot = \"Python\"\n",
    "\n",
    "for i in range(len(mot)):\n",
    "    print(i)"
   ]
  },
  {
   "cell_type": "code",
   "execution_count": 62,
   "metadata": {},
   "outputs": [
    {
     "name": "stdout",
     "output_type": "stream",
     "text": [
      " 0 * 7 = 0\n",
      " 1 * 7 = 7\n",
      " 2 * 7 = 14\n",
      " 3 * 7 = 21\n",
      " 4 * 7 = 28\n",
      " 5 * 7 = 35\n",
      " 6 * 7 = 42\n",
      " 7 * 7 = 49\n",
      " 8 * 7 = 56\n",
      " 9 * 7 = 63\n",
      " 10 * 7 = 70\n",
      " 11 * 7 = 77\n",
      " 12 * 7 = 84\n"
     ]
    }
   ],
   "source": [
    "nombre= 7\n",
    "for i in range(13):\n",
    "    print(f\" {i} * {nombre} = {i * nombre}\")"
   ]
  },
  {
   "cell_type": "code",
   "execution_count": 81,
   "metadata": {},
   "outputs": [
    {
     "data": {
      "text/plain": [
       "'Exercice réussi !'"
      ]
     },
     "execution_count": 81,
     "metadata": {},
     "output_type": "execute_result"
    }
   ],
   "source": [
    "i = 0\n",
    "for i in range(20):\n",
    "     \n",
    "    while i < 10:\n",
    "        i += 1\n",
    "\n",
    "resultat = \"Exercice réussi !\"\n",
    "resultat"
   ]
  },
  {
   "cell_type": "code",
   "execution_count": 1,
   "metadata": {},
   "outputs": [
    {
     "name": "stdout",
     "output_type": "stream",
     "text": [
      "[44, 4, 38]\n"
     ]
    }
   ],
   "source": [
    "nombres = [1, 21, 5, 44, 4, 9, 5, 83, 29, 31, 25, 38]\n",
    "nombres_pairs = []\n",
    "for i in nombres:\n",
    "    if i % 2 == 0:\n",
    "        nombres_pairs.append(i)\n",
    "\n",
    "print(nombres_pairs)"
   ]
  },
  {
   "cell_type": "code",
   "execution_count": 3,
   "metadata": {},
   "outputs": [
    {
     "data": {
      "text/plain": [
       "[44, 4, 38]"
      ]
     },
     "execution_count": 3,
     "metadata": {},
     "output_type": "execute_result"
    }
   ],
   "source": [
    "nombres = [1, 21, 5, 44, 4, 9, 5, 83, 29, 31, 25, 38]\n",
    "\n",
    "nombres_pairs = [i for i in nombres if i % 2 == 0]\n",
    "nombres_pairs"
   ]
  },
  {
   "cell_type": "code",
   "execution_count": 4,
   "metadata": {},
   "outputs": [
    {
     "name": "stdout",
     "output_type": "stream",
     "text": [
      "[0, 1, 2, 3, 4, 5, 6, 7, 8, 9]\n"
     ]
    }
   ],
   "source": [
    "nombres = range(-10, 10)\n",
    "nombres_positifs = [i for i in nombres if i >=0   ]\n",
    "\n",
    "\n",
    "print(nombres_positifs)"
   ]
  },
  {
   "cell_type": "code",
   "execution_count": 6,
   "metadata": {},
   "outputs": [
    {
     "name": "stdout",
     "output_type": "stream",
     "text": [
      "[0, 2, 4, 6, 8, 0, 2, 4, 6, 8]\n"
     ]
    }
   ],
   "source": [
    "nombres = range(5)\n",
    "nombres_doubles = [i*2 for i in nombres ]\n",
    "for i in nombres:\n",
    "    nombres_doubles.append(i * 2)\n",
    "\n",
    "print(nombres_doubles)"
   ]
  },
  {
   "cell_type": "code",
   "execution_count": 19,
   "metadata": {},
   "outputs": [
    {
     "data": {
      "text/plain": [
       "[0, -1, 2, -3, 4, -5, 6, -7, 8, -9]"
      ]
     },
     "execution_count": 19,
     "metadata": {},
     "output_type": "execute_result"
    }
   ],
   "source": [
    "nombres = range(10)\n",
    "nombres_inverses = [ i  if i%2==0 else -i for i in nombres]\n",
    "nombres_inverses"
   ]
  },
  {
   "cell_type": "code",
   "execution_count": null,
   "metadata": {},
   "outputs": [],
   "source": [
    "nombres = range(51)\n",
    "nombres_pairs = [i for i in nombres if i % 2 ==0]\n",
    "nombres_pairs"
   ]
  },
  {
   "cell_type": "code",
   "execution_count": 45,
   "metadata": {},
   "outputs": [
    {
     "name": "stdout",
     "output_type": "stream",
     "text": [
      "le resultat de  2 + 1 = 3\n"
     ]
    }
   ],
   "source": [
    "premier_nombre= \"\"\n",
    "deuxieme_nombre= \"\"\n",
    "while not (premier_nombre.isdigit() and deuxieme_nombre.isdigit()):\n",
    "    premier_nombre= input(\"saisir premier nombre\")\n",
    "    deuxieme_nombre= input(\"saisir deuxieme nombre\")\n",
    "\n",
    "    if not(premier_nombre.isdigit() and deuxieme_nombre.isdigit()):\n",
    "        print(\"entrez un nombre valide\")\n",
    "    \n",
    "\n",
    "\n",
    "print(f\"le resultat de  {premier_nombre} + {deuxieme_nombre} = {int(premier_nombre) + int(deuxieme_nombre)}\")\n"
   ]
  },
  {
   "cell_type": "code",
   "execution_count": 1,
   "metadata": {},
   "outputs": [
    {
     "name": "stdout",
     "output_type": "stream",
     "text": [
      "L'élément banana a bien été ajouté à la liste.\n",
      "--------------------------------------------------\n",
      "L'élément orange a bien été ajouté à la liste.\n",
      "--------------------------------------------------\n",
      "L'élément choux a bien été ajouté à la liste.\n",
      "--------------------------------------------------\n",
      "L'élément brocoli a bien été ajouté à la liste.\n",
      "--------------------------------------------------\n",
      "Voici le contenu de votre liste :\n",
      "1. banana\n",
      "2. orange\n",
      "3. choux\n",
      "4. brocoli\n",
      "--------------------------------------------------\n",
      "L'élément choux a bien été supprimé de la liste.\n",
      "--------------------------------------------------\n",
      "Voici le contenu de votre liste :\n",
      "1. banana\n",
      "2. orange\n",
      "3. brocoli\n",
      "--------------------------------------------------\n",
      "Voici le contenu de votre liste :\n",
      "1. banana\n",
      "2. orange\n",
      "3. brocoli\n",
      "--------------------------------------------------\n",
      "L'élément banana a bien été ajouté à la liste.\n",
      "--------------------------------------------------\n",
      "Voici le contenu de votre liste :\n",
      "1. banana\n",
      "2. orange\n",
      "3. brocoli\n",
      "4. banana\n",
      "--------------------------------------------------\n",
      "Voici le contenu de votre liste :\n",
      "1. banana\n",
      "2. orange\n",
      "3. brocoli\n",
      "4. banana\n",
      "--------------------------------------------------\n",
      "Voici le contenu de votre liste :\n",
      "1. banana\n",
      "2. orange\n",
      "3. brocoli\n",
      "4. banana\n",
      "--------------------------------------------------\n",
      "Voici le contenu de votre liste :\n",
      "1. banana\n",
      "2. orange\n",
      "3. brocoli\n",
      "4. banana\n",
      "--------------------------------------------------\n",
      "La liste a été vidée de son contenu.\n",
      "--------------------------------------------------\n",
      "Votre liste ne contient aucun élément.\n",
      "--------------------------------------------------\n",
      "À bientôt !\n"
     ]
    },
    {
     "ename": "SystemExit",
     "evalue": "",
     "output_type": "error",
     "traceback": [
      "An exception has occurred, use %tb to see the full traceback.\n",
      "\u001b[1;31mSystemExit\u001b[0m\n"
     ]
    },
    {
     "name": "stderr",
     "output_type": "stream",
     "text": [
      "c:\\Users\\didia\\AppData\\Local\\Programs\\Python\\Python310\\lib\\site-packages\\IPython\\core\\interactiveshell.py:3406: UserWarning: To exit: use 'exit', 'quit', or Ctrl-D.\n",
      "  warn(\"To exit: use 'exit', 'quit', or Ctrl-D.\", stacklevel=1)\n"
     ]
    }
   ],
   "source": [
    "import sys\n",
    "\n",
    "LISTE = []\n",
    "\n",
    "MENU = \"\"\"Choisissez parmi les 5 options suivantes :\n",
    "1: Ajouter un élément à la liste\n",
    "2: Retirer un élément de la liste\n",
    "3: Afficher la liste\n",
    "4: Vider la liste\n",
    "5: Quitter\n",
    "? Votre choix : \"\"\"\n",
    "\n",
    "MENU_CHOICES = [\"1\", \"2\", \"3\", \"4\", \"5\"]\n",
    "\n",
    "\n",
    "\n",
    "while True:\n",
    "    user_choice = input(MENU)\n",
    "    if user_choice not in MENU_CHOICES:\n",
    "        print(\"Veuillez choisir une option valide...\")\n",
    "        continue\n",
    "\n",
    "    if user_choice == \"1\":  # Ajouter un élément\n",
    "        item = input(\"Entrez le nom d'un élément à ajouter à la liste de courses : \")\n",
    "        LISTE.append(item)\n",
    "        print(f\"L'élément {item} a bien été ajouté à la liste.\")\n",
    "    elif user_choice == \"2\":  # Retirer un élément\n",
    "        item = input(\"Entrez le nom d'un élément à retirer de la liste de courses : \")\n",
    "        if item in LISTE:\n",
    "            LISTE.remove(item)\n",
    "            print(f\"L'élément {item} a bien été supprimé de la liste.\")\n",
    "        else:\n",
    "            print(f\"L'élément {item} n'est pas dans la liste.\")\n",
    "    elif user_choice == \"3\":  # Afficher la liste\n",
    "        if LISTE:\n",
    "            print(\"Voici le contenu de votre liste :\")\n",
    "            for i, item in enumerate(LISTE, 1):\n",
    "                print(f\"{i}. {item}\")\n",
    "        else:\n",
    "            print(\"Votre liste ne contient aucun élément.\")\n",
    "    elif user_choice == \"4\":  # Vider la liste\n",
    "        LISTE.clear()\n",
    "        print(\"La liste a été vidée de son contenu.\")\n",
    "    elif user_choice == \"5\":  # Quitter\n",
    "        print(\"À bientôt !\")\n",
    "        sys.exit()\n",
    "\n",
    "    print(\"-\" * 50)"
   ]
  },
  {
   "cell_type": "code",
   "execution_count": 92,
   "metadata": {},
   "outputs": [
    {
     "name": "stdout",
     "output_type": "stream",
     "text": [
      "['Ali', 'Toumi', 'Douwi', 'dani', 'ouème']\n"
     ]
    }
   ],
   "source": [
    "#json .load permet de lire un fichier json\n",
    "import json\n",
    "\n",
    "with open (\"essai_jason.json\", \"r\",encoding='utf-8') as f:\n",
    "    conten= json.load(f)\n",
    "    print(conten)\n"
   ]
  },
  {
   "cell_type": "code",
   "execution_count": 93,
   "metadata": {},
   "outputs": [],
   "source": [
    "conten.extend([\"dani\", \"ouème\"])"
   ]
  },
  {
   "cell_type": "code",
   "execution_count": 94,
   "metadata": {},
   "outputs": [],
   "source": [
    "# dump permet d'ecrire sur un fichier json\n",
    "with open(\"essai_jason.json\", \"w\",encoding='utf-8') as f:\n",
    "    json.dump(conten, f, ensure_ascii= False, indent=4)"
   ]
  },
  {
   "cell_type": "code",
   "execution_count": 90,
   "metadata": {},
   "outputs": [
    {
     "name": "stdout",
     "output_type": "stream",
     "text": [
      "C:\\Users\\didia\\python_cours\n"
     ]
    }
   ],
   "source": [
    "chemin = \"C:\\\\Users\\\\didia\\\\python_cours\"\n",
    "print(chemin)"
   ]
  },
  {
   "cell_type": "code",
   "execution_count": null,
   "metadata": {},
   "outputs": [],
   "source": [
    "with open(chemin, \"r\") as f:\n",
    "    contenue= repr(f.read())\n",
    "    print(contenu)"
   ]
  },
  {
   "cell_type": "code",
   "execution_count": null,
   "metadata": {},
   "outputs": [],
   "source": [
    "with open(chemin, \"r\") as f:\n",
    "    contenue= f.read().splitlines() # sans le \\n\n",
    "    print(contenu)"
   ]
  },
  {
   "cell_type": "markdown",
   "metadata": {},
   "source": [
    "# Le module os qui cré et supprime des dossier"
   ]
  },
  {
   "cell_type": "code",
   "execution_count": 84,
   "metadata": {},
   "outputs": [
    {
     "data": {
      "text/plain": [
       "\"j'ai\""
      ]
     },
     "execution_count": 84,
     "metadata": {},
     "output_type": "execute_result"
    }
   ],
   "source": [
    "l= \"\"\"j'ai\"\"\"\n",
    "l"
   ]
  },
  {
   "cell_type": "code",
   "execution_count": 77,
   "metadata": {},
   "outputs": [],
   "source": [
    "import os\n",
    "\n",
    "chemin = r\"C:\\Users\\didia\\python_cours\\mon\"\n",
    "dossiers = os.path.join(chemin, \"dossier\")\n",
    "if not os.path.exists(dossier):\n",
    "    os.makedirs(dossiers)\n"
   ]
  },
  {
   "cell_type": "code",
   "execution_count": 50,
   "metadata": {},
   "outputs": [],
   "source": [
    "# ici au lieu de if not on rajoute exist_ok=True\n",
    "chemin = r\"C:\\Users\\didia\\python_cours\\test.txt\"\n",
    "dossiers = os.path.join(chemin, \"test\", \"dossier\")\n",
    "os.makedirs(dossiers, exist_ok=True)\n"
   ]
  },
  {
   "cell_type": "code",
   "execution_count": null,
   "metadata": {},
   "outputs": [],
   "source": [
    "# pour supprimer un dossier\n",
    "chemin = r\"C:\\Users\\didia\\python_cours\\test\"\n",
    "dossiers = os.path.join(chemin,  \"test\")\n",
    "os.removedirs(dossiers)"
   ]
  },
  {
   "cell_type": "code",
   "execution_count": 40,
   "metadata": {},
   "outputs": [],
   "source": [
    "chemin = r\"C:\\Users\\didia\\python_cours\\mon\"\n",
    "dossiers = os.path.join(chemin,  \"dossier\", \"test\")\n",
    "os.makedirs(dossiers, exist_ok=True)\n",
    "if os.path.exists(dossiers):\n",
    "    os.removedirs(dossiers)"
   ]
  },
  {
   "cell_type": "code",
   "execution_count": 43,
   "metadata": {},
   "outputs": [
    {
     "name": "stdout",
     "output_type": "stream",
     "text": [
      "Help on method randint in module random:\n",
      "\n",
      "randint(a, b) method of random.Random instance\n",
      "    Return random integer in range [a, b], including both end points.\n",
      "\n"
     ]
    }
   ],
   "source": [
    "import random \n",
    "help(random.randint)"
   ]
  },
  {
   "cell_type": "code",
   "execution_count": 48,
   "metadata": {},
   "outputs": [
    {
     "data": {
      "text/plain": [
       "WindowsPath('C:/Users/didia')"
      ]
     },
     "execution_count": 48,
     "metadata": {},
     "output_type": "execute_result"
    }
   ],
   "source": [
    "from pathlib import Path\n",
    "\n",
    "Path.home()"
   ]
  },
  {
   "cell_type": "code",
   "execution_count": 49,
   "metadata": {},
   "outputs": [
    {
     "data": {
      "text/plain": [
       "WindowsPath('c:/Users/didia/python_cours')"
      ]
     },
     "execution_count": 49,
     "metadata": {},
     "output_type": "execute_result"
    }
   ],
   "source": [
    "Path.cwd()"
   ]
  },
  {
   "cell_type": "code",
   "execution_count": 60,
   "metadata": {},
   "outputs": [
    {
     "name": "stdout",
     "output_type": "stream",
     "text": [
      "test.txt\n",
      "C:\\Users\\didia\\python_cours\n",
      "test\n",
      ".txt\n",
      "['.txt']\n",
      "('C:\\\\', 'Users', 'didia', 'python_cours', 'test.txt')\n",
      "False\n",
      "False\n",
      "False\n"
     ]
    }
   ],
   "source": [
    "p = Path(r\"C:\\Users\\didia\\python_cours\\test.txt\")\n",
    "print(p.name)\n",
    "print(p.parent)\n",
    "print(p.stem)\n",
    "print(p.suffix)\n",
    "print(p.suffixes)\n",
    "print(p.parts)\n",
    "print(p.exists())\n",
    "print(p.is_dir())\n",
    "print(p.is_file())"
   ]
  },
  {
   "cell_type": "code",
   "execution_count": 70,
   "metadata": {},
   "outputs": [
    {
     "name": "stdout",
     "output_type": "stream",
     "text": [
      "C:\\Users\\didia\\Pathlibe\\readme.txt\n"
     ]
    }
   ],
   "source": [
    "p = Path.home() /\"Pathlibe\"/\"readme.txt\"\n",
    "print(p)\n"
   ]
  },
  {
   "cell_type": "code",
   "execution_count": 71,
   "metadata": {},
   "outputs": [
    {
     "data": {
      "text/plain": [
       "WindowsPath('C:/Users/didia/Pathlibe/readme.txt')"
      ]
     },
     "execution_count": 71,
     "metadata": {},
     "output_type": "execute_result"
    }
   ],
   "source": [
    "p\n"
   ]
  },
  {
   "cell_type": "markdown",
   "metadata": {},
   "source": [
    "# Dictionnaire"
   ]
  },
  {
   "cell_type": "code",
   "execution_count": null,
   "metadata": {},
   "outputs": [],
   "source": [
    "# dictionnaire.get(\"prénom\", \"la clé n'existe pas\") au cas ou "
   ]
  },
  {
   "cell_type": "code",
   "execution_count": 75,
   "metadata": {},
   "outputs": [
    {
     "ename": "SyntaxError",
     "evalue": "invalid syntax (2777137668.py, line 1)",
     "output_type": "error",
     "traceback": [
      "\u001b[1;36m  Input \u001b[1;32mIn [75]\u001b[1;36m\u001b[0m\n\u001b[1;33m    films = {\"Le Seigneur des Anneaux\": 12; \"Harry Potter\" : 9; \"Blade Runner\" : 7.5}\u001b[0m\n\u001b[1;37m                                          ^\u001b[0m\n\u001b[1;31mSyntaxError\u001b[0m\u001b[1;31m:\u001b[0m invalid syntax\n"
     ]
    }
   ],
   "source": [
    "films = {\"Le Seigneur des Anneaux\": 12; \"Harry Potter\" : 9; \"Blade Runner\" : 7.5}\n",
    "prix = 0\n",
    "for i, val in films:\n",
    "    print(f\" le prit total = {val}\")"
   ]
  }
 ],
 "metadata": {
  "kernelspec": {
   "display_name": "Python 3.10.5 64-bit",
   "language": "python",
   "name": "python3"
  },
  "language_info": {
   "codemirror_mode": {
    "name": "ipython",
    "version": 3
   },
   "file_extension": ".py",
   "mimetype": "text/x-python",
   "name": "python",
   "nbconvert_exporter": "python",
   "pygments_lexer": "ipython3",
   "version": "3.10.5"
  },
  "orig_nbformat": 4,
  "vscode": {
   "interpreter": {
    "hash": "182d9c2d627c7b4790f3f9c9bfc70f980bc2cf10c13b9e7f30579c1d1021dc25"
   }
  }
 },
 "nbformat": 4,
 "nbformat_minor": 2
}
